{
 "cells": [
  {
   "cell_type": "code",
   "execution_count": 1,
   "id": "9fb4e56f",
   "metadata": {},
   "outputs": [
    {
     "name": "stdout",
     "output_type": "stream",
     "text": [
      "Hello! Python!\n",
      "以下是python的基本資料類型(int,float,str,bool)\n"
     ]
    },
    {
     "data": {
      "text/plain": [
       "False"
      ]
     },
     "execution_count": 1,
     "metadata": {},
     "output_type": "execute_result"
    }
   ],
   "source": [
    "print(\"Hello! Python!\")\n",
    "print(\"以下是python的基本資料類型(int,float,str,bool)\")\n",
    "15 #整數,(int)\n",
    "15.0 #浮點數,(float)\n",
    "\"15.0\" #字串,(str)\n",
    "'15.0' #字串,(str)\n",
    "True #布林值,(bool)\n",
    "False #布林值,(bool)"
   ]
  },
  {
   "cell_type": "code",
   "execution_count": 1,
   "id": "5825e225",
   "metadata": {},
   "outputs": [
    {
     "name": "stdout",
     "output_type": "stream",
     "text": [
      "SELECT \"stationCode\",\"stationName\",\"stationAddrTw\"\n",
      "FROM \"台鐵車站資訊\"\n",
      "WHERE \"stationAddrTw\" LIKE '%基隆市%';\n"
     ]
    }
   ],
   "source": [
    "print(\"SELECT \\\"stationCode\\\",\\\"stationName\\\",\\\"stationAddrTw\\\"\\nFROM \\\"台鐵車站資訊\\\"\\nWHERE \\\"stationAddrTw\\\" LIKE \\'%基隆市%\\';\")"
   ]
  },
  {
   "cell_type": "code",
   "execution_count": 2,
   "id": "9e8c6b4f",
   "metadata": {},
   "outputs": [
    {
     "name": "stdout",
     "output_type": "stream",
     "text": [
      "CREATE TABLE 台鐵車站資訊 (\n",
      "\t\"stationCode\" int4 NOT NULL,\n",
      "\t\"stationName\" varchar(50) NULL,\n",
      "\t\"name\" varchar(50) NULL,\n",
      "\t\"stationAddrTw\" varchar(50) NULL,\n",
      "\t\"stationTel\" varchar(50) NULL,\n",
      "\tgps varchar(50) NULL,\n",
      "\t\"haveBike\" varchar(50) NULL,\n",
      "\tCONSTRAINT 台鐵車站資訊_pkey PRIMARY KEY (\"stationCode\")\n",
      ");\n"
     ]
    }
   ],
   "source": [
    "print(\"\"\"CREATE TABLE 台鐵車站資訊 (\n",
    "\t\"stationCode\" int4 NOT NULL,\n",
    "\t\"stationName\" varchar(50) NULL,\n",
    "\t\"name\" varchar(50) NULL,\n",
    "\t\"stationAddrTw\" varchar(50) NULL,\n",
    "\t\"stationTel\" varchar(50) NULL,\n",
    "\tgps varchar(50) NULL,\n",
    "\t\"haveBike\" varchar(50) NULL,\n",
    "\tCONSTRAINT 台鐵車站資訊_pkey PRIMARY KEY (\"stationCode\")\n",
    ");\"\"\")"
   ]
  },
  {
   "cell_type": "code",
   "execution_count": null,
   "id": "6d3d1298",
   "metadata": {},
   "outputs": [],
   "source": [
    "stations = [\n",
    "    {\"stationCode\": 900, \"stationName\": \"基隆\", \"stationAddrTw\": \"基隆市仁愛區港西街5號\"},\n",
    "    {\"stationCode\": 910, \"stationName\": \"三坑\", \"stationAddrTw\": \"基隆市仁愛區德厚里龍安街206號\"},\n",
    "    {\"stationCode\": 920, \"stationName\": \"八堵\", \"stationAddrTw\": \"基隆市暖暖區八南里八堵路142號\"},\n",
    "    {\"stationCode\": 930, \"stationName\": \"七堵\", \"stationAddrTw\": \"基隆市七堵區長興里東新街2號\"},\n",
    "    {\"stationCode\": 940, \"stationName\": \"百福\", \"stationAddrTw\": \"基隆市七堵區堵南里明德三路1之1號\"},\n",
    "    {\"stationCode\": 7361, \"stationName\": \"海科館\", \"stationAddrTw\": \"基隆市中正區長潭里\"},\n",
    "    {\"stationCode\": 7390, \"stationName\": \"暖暖\", \"stationAddrTw\": \"基隆市暖暖區暖暖里暖暖街51號\"}\n",
    "]\n",
    "\n",
    "for station in stations:\n",
    "    print(f\"站代碼: {station['stationCode']}, 站名: {station['stationName']}, 地址: {station['stationAddrTw']}\")"
   ]
  }
 ],
 "metadata": {
  "kernelspec": {
   "display_name": "pydev",
   "language": "python",
   "name": "python3"
  },
  "language_info": {
   "codemirror_mode": {
    "name": "ipython",
    "version": 3
   },
   "file_extension": ".py",
   "mimetype": "text/x-python",
   "name": "python",
   "nbconvert_exporter": "python",
   "pygments_lexer": "ipython3",
   "version": "3.10.18"
  }
 },
 "nbformat": 4,
 "nbformat_minor": 5
}
